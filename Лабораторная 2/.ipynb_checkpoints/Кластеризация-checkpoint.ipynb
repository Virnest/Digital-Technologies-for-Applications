{
 "cells": [
  {
   "cell_type": "markdown",
   "metadata": {},
   "source": [
    "### Задача кластеризации"
   ]
  },
  {
   "cell_type": "markdown",
   "metadata": {},
   "source": [
    "#### Примеры:\n",
    "https://www.naftaliharris.com/blog/visualizing-k-means-clustering/"
   ]
  },
  {
   "cell_type": "markdown",
   "metadata": {},
   "source": [
    "#### В Sklearn: https://scikit-learn.org/stable/modules/generated/sklearn.cluster.KMeans.html  \n",
    "\n",
    "Параметры:\n",
    "- n_clusters – количество кластеров. \n",
    "- init – способ инициализации центроидов (по умолчанию ‘k-means++’).\n",
    "- n_init – количество запусков алгоритма со случайной инициализацией центроидов (по умолчанию n_init = 10).\n",
    "- random_state – определяет случайность инициализации центроида.\n",
    "\n",
    "\n",
    "Атрибуты:\n",
    "- cluster_centers_ – координаты центров кластеров.\n",
    "- labels_ – возвращает метки кластеров.\n",
    "- inertia_ – сумма квадратов расстояний наблюдений до ближайшего центра кластера."
   ]
  },
  {
   "cell_type": "markdown",
   "metadata": {},
   "source": [
    "#### Прочитайте материал\n",
    "https://www.dmitrymakarov.ru/intro/clustering-16/"
   ]
  },
  {
   "cell_type": "markdown",
   "metadata": {},
   "source": [
    "### Задание\n",
    "В файле mobile.xlsx находятся данные об абонентах телекоммуникационной\n",
    "компании.  \n",
    "Целью исследования является сегментация абонентской базы для разработки\n",
    "новых тарифов и проведения маркетинговых акций."
   ]
  },
  {
   "cell_type": "code",
   "execution_count": 1,
   "metadata": {},
   "outputs": [
    {
     "data": {
      "text/html": [
       "<div>\n",
       "<style scoped>\n",
       "    .dataframe tbody tr th:only-of-type {\n",
       "        vertical-align: middle;\n",
       "    }\n",
       "\n",
       "    .dataframe tbody tr th {\n",
       "        vertical-align: top;\n",
       "    }\n",
       "\n",
       "    .dataframe thead th {\n",
       "        text-align: right;\n",
       "    }\n",
       "</style>\n",
       "<table border=\"1\" class=\"dataframe\">\n",
       "  <thead>\n",
       "    <tr style=\"text-align: right;\">\n",
       "      <th></th>\n",
       "      <th>Количество SMS за месяц</th>\n",
       "      <th>Количество звонков</th>\n",
       "      <th>Среднемесячный расход</th>\n",
       "    </tr>\n",
       "  </thead>\n",
       "  <tbody>\n",
       "    <tr>\n",
       "      <th>0</th>\n",
       "      <td>56</td>\n",
       "      <td>82</td>\n",
       "      <td>121.54</td>\n",
       "    </tr>\n",
       "    <tr>\n",
       "      <th>1</th>\n",
       "      <td>1</td>\n",
       "      <td>221</td>\n",
       "      <td>287.51</td>\n",
       "    </tr>\n",
       "    <tr>\n",
       "      <th>2</th>\n",
       "      <td>36</td>\n",
       "      <td>68</td>\n",
       "      <td>113.70</td>\n",
       "    </tr>\n",
       "    <tr>\n",
       "      <th>3</th>\n",
       "      <td>23</td>\n",
       "      <td>96</td>\n",
       "      <td>410.23</td>\n",
       "    </tr>\n",
       "    <tr>\n",
       "      <th>4</th>\n",
       "      <td>29</td>\n",
       "      <td>139</td>\n",
       "      <td>537.60</td>\n",
       "    </tr>\n",
       "    <tr>\n",
       "      <th>...</th>\n",
       "      <td>...</td>\n",
       "      <td>...</td>\n",
       "      <td>...</td>\n",
       "    </tr>\n",
       "    <tr>\n",
       "      <th>4487</th>\n",
       "      <td>30</td>\n",
       "      <td>66</td>\n",
       "      <td>186.20</td>\n",
       "    </tr>\n",
       "    <tr>\n",
       "      <th>4488</th>\n",
       "      <td>23</td>\n",
       "      <td>112</td>\n",
       "      <td>500.68</td>\n",
       "    </tr>\n",
       "    <tr>\n",
       "      <th>4489</th>\n",
       "      <td>5</td>\n",
       "      <td>189</td>\n",
       "      <td>470.42</td>\n",
       "    </tr>\n",
       "    <tr>\n",
       "      <th>4490</th>\n",
       "      <td>69</td>\n",
       "      <td>124</td>\n",
       "      <td>858.99</td>\n",
       "    </tr>\n",
       "    <tr>\n",
       "      <th>4491</th>\n",
       "      <td>24</td>\n",
       "      <td>136</td>\n",
       "      <td>151.92</td>\n",
       "    </tr>\n",
       "  </tbody>\n",
       "</table>\n",
       "<p>4492 rows × 3 columns</p>\n",
       "</div>"
      ],
      "text/plain": [
       "      Количество SMS за месяц  Количество звонков  Среднемесячный расход\n",
       "0                          56                  82                 121.54\n",
       "1                           1                 221                 287.51\n",
       "2                          36                  68                 113.70\n",
       "3                          23                  96                 410.23\n",
       "4                          29                 139                 537.60\n",
       "...                       ...                 ...                    ...\n",
       "4487                       30                  66                 186.20\n",
       "4488                       23                 112                 500.68\n",
       "4489                        5                 189                 470.42\n",
       "4490                       69                 124                 858.99\n",
       "4491                       24                 136                 151.92\n",
       "\n",
       "[4492 rows x 3 columns]"
      ]
     },
     "execution_count": 1,
     "metadata": {},
     "output_type": "execute_result"
    }
   ],
   "source": [
    "import pandas as pd\n",
    "df = pd.read_excel('mobile.xlsx')\n",
    "df"
   ]
  },
  {
   "cell_type": "code",
   "execution_count": 2,
   "metadata": {},
   "outputs": [
    {
     "name": "stdout",
     "output_type": "stream",
     "text": [
      "<class 'pandas.core.frame.DataFrame'>\n",
      "RangeIndex: 4492 entries, 0 to 4491\n",
      "Data columns (total 3 columns):\n",
      " #   Column                   Non-Null Count  Dtype  \n",
      "---  ------                   --------------  -----  \n",
      " 0   Количество SMS за месяц  4492 non-null   int64  \n",
      " 1   Количество звонков       4492 non-null   int64  \n",
      " 2   Среднемесячный расход    4492 non-null   float64\n",
      "dtypes: float64(1), int64(2)\n",
      "memory usage: 105.4 KB\n"
     ]
    }
   ],
   "source": [
    "df.info()"
   ]
  },
  {
   "cell_type": "code",
   "execution_count": 3,
   "metadata": {},
   "outputs": [
    {
     "data": {
      "text/html": [
       "<div>\n",
       "<style scoped>\n",
       "    .dataframe tbody tr th:only-of-type {\n",
       "        vertical-align: middle;\n",
       "    }\n",
       "\n",
       "    .dataframe tbody tr th {\n",
       "        vertical-align: top;\n",
       "    }\n",
       "\n",
       "    .dataframe thead th {\n",
       "        text-align: right;\n",
       "    }\n",
       "</style>\n",
       "<table border=\"1\" class=\"dataframe\">\n",
       "  <thead>\n",
       "    <tr style=\"text-align: right;\">\n",
       "      <th></th>\n",
       "      <th>Количество SMS за месяц</th>\n",
       "      <th>Количество звонков</th>\n",
       "      <th>Среднемесячный расход</th>\n",
       "    </tr>\n",
       "  </thead>\n",
       "  <tbody>\n",
       "    <tr>\n",
       "      <th>count</th>\n",
       "      <td>4492.000000</td>\n",
       "      <td>4492.000000</td>\n",
       "      <td>4492.000000</td>\n",
       "    </tr>\n",
       "    <tr>\n",
       "      <th>mean</th>\n",
       "      <td>21.243321</td>\n",
       "      <td>140.480632</td>\n",
       "      <td>506.155512</td>\n",
       "    </tr>\n",
       "    <tr>\n",
       "      <th>std</th>\n",
       "      <td>27.911864</td>\n",
       "      <td>91.742992</td>\n",
       "      <td>646.252023</td>\n",
       "    </tr>\n",
       "    <tr>\n",
       "      <th>min</th>\n",
       "      <td>0.000000</td>\n",
       "      <td>2.000000</td>\n",
       "      <td>3.180000</td>\n",
       "    </tr>\n",
       "    <tr>\n",
       "      <th>25%</th>\n",
       "      <td>3.000000</td>\n",
       "      <td>94.000000</td>\n",
       "      <td>152.880000</td>\n",
       "    </tr>\n",
       "    <tr>\n",
       "      <th>50%</th>\n",
       "      <td>6.000000</td>\n",
       "      <td>129.000000</td>\n",
       "      <td>316.960000</td>\n",
       "    </tr>\n",
       "    <tr>\n",
       "      <th>75%</th>\n",
       "      <td>32.000000</td>\n",
       "      <td>168.000000</td>\n",
       "      <td>600.032500</td>\n",
       "    </tr>\n",
       "    <tr>\n",
       "      <th>max</th>\n",
       "      <td>179.000000</td>\n",
       "      <td>635.000000</td>\n",
       "      <td>5142.760000</td>\n",
       "    </tr>\n",
       "  </tbody>\n",
       "</table>\n",
       "</div>"
      ],
      "text/plain": [
       "       Количество SMS за месяц  Количество звонков  Среднемесячный расход\n",
       "count              4492.000000         4492.000000            4492.000000\n",
       "mean                 21.243321          140.480632             506.155512\n",
       "std                  27.911864           91.742992             646.252023\n",
       "min                   0.000000            2.000000               3.180000\n",
       "25%                   3.000000           94.000000             152.880000\n",
       "50%                   6.000000          129.000000             316.960000\n",
       "75%                  32.000000          168.000000             600.032500\n",
       "max                 179.000000          635.000000            5142.760000"
      ]
     },
     "execution_count": 3,
     "metadata": {},
     "output_type": "execute_result"
    }
   ],
   "source": [
    "df.describe()"
   ]
  },
  {
   "cell_type": "code",
   "execution_count": 4,
   "metadata": {},
   "outputs": [],
   "source": [
    "# подключим функции для реализации алгоритмов кластеризации\n",
    "from sklearn.cluster import AgglomerativeClustering, KMeans, DBSCAN\n",
    "# подключим метрики ARI и \"силуэт\"\n",
    "from sklearn.metrics import adjusted_rand_score, silhouette_score"
   ]
  },
  {
   "cell_type": "code",
   "execution_count": 5,
   "metadata": {},
   "outputs": [],
   "source": [
    "# как и в случае классификации, выполним нормализацию данных\n",
    "# однако делить данные на обучающую и тестовую выборку не будем -\n",
    "# в задаче кластеризации это не требуется. Есть просто набор данных\n",
    "# (в нашем случае размеченных - мы знаем истинное разбиение на кластеры),\n",
    "# нужно отнести каждый объект набора к тому или иному кластеру\n",
    "\n",
    "from sklearn.preprocessing import MinMaxScaler  # минимаксная нормализация"
   ]
  },
  {
   "cell_type": "code",
   "execution_count": 7,
   "metadata": {},
   "outputs": [
    {
     "data": {
      "text/plain": [
       "array([[0.31284916, 0.12638231, 0.02302912],\n",
       "       [0.00558659, 0.34597156, 0.05532164],\n",
       "       [0.20111732, 0.1042654 , 0.0215037 ],\n",
       "       ...,\n",
       "       [0.02793296, 0.29541864, 0.09091015],\n",
       "       [0.38547486, 0.19273302, 0.16651361],\n",
       "       [0.13407821, 0.21169036, 0.02894011]])"
      ]
     },
     "execution_count": 7,
     "metadata": {},
     "output_type": "execute_result"
    }
   ],
   "source": [
    "# Нормализация данных\n",
    "# КОД\n",
    "df_s = MinMaxScaler().fit_transform(df)\n",
    "df_s"
   ]
  },
  {
   "cell_type": "code",
   "execution_count": 8,
   "metadata": {},
   "outputs": [],
   "source": [
    "# подключим функции для реализации алгоритмов кластеризации\n",
    "from sklearn.cluster import AgglomerativeClustering, KMeans, DBSCAN\n",
    "# подключим метрики ARI и \"силуэт\"\n",
    "from sklearn.metrics import adjusted_rand_score, silhouette_score"
   ]
  },
  {
   "cell_type": "markdown",
   "metadata": {},
   "source": [
    "### 1. Метод k-means"
   ]
  },
  {
   "cell_type": "code",
   "execution_count": 9,
   "metadata": {},
   "outputs": [
    {
     "data": {
      "text/html": [
       "<div>\n",
       "<style scoped>\n",
       "    .dataframe tbody tr th:only-of-type {\n",
       "        vertical-align: middle;\n",
       "    }\n",
       "\n",
       "    .dataframe tbody tr th {\n",
       "        vertical-align: top;\n",
       "    }\n",
       "\n",
       "    .dataframe thead th {\n",
       "        text-align: right;\n",
       "    }\n",
       "</style>\n",
       "<table border=\"1\" class=\"dataframe\">\n",
       "  <thead>\n",
       "    <tr style=\"text-align: right;\">\n",
       "      <th></th>\n",
       "      <th>Количество SMS за месяц</th>\n",
       "      <th>Количество звонков</th>\n",
       "      <th>Среднемесячный расход</th>\n",
       "      <th>Кластер</th>\n",
       "    </tr>\n",
       "  </thead>\n",
       "  <tbody>\n",
       "    <tr>\n",
       "      <th>0</th>\n",
       "      <td>56</td>\n",
       "      <td>82</td>\n",
       "      <td>121.54</td>\n",
       "      <td>0</td>\n",
       "    </tr>\n",
       "    <tr>\n",
       "      <th>1</th>\n",
       "      <td>1</td>\n",
       "      <td>221</td>\n",
       "      <td>287.51</td>\n",
       "      <td>2</td>\n",
       "    </tr>\n",
       "    <tr>\n",
       "      <th>2</th>\n",
       "      <td>36</td>\n",
       "      <td>68</td>\n",
       "      <td>113.70</td>\n",
       "      <td>2</td>\n",
       "    </tr>\n",
       "    <tr>\n",
       "      <th>3</th>\n",
       "      <td>23</td>\n",
       "      <td>96</td>\n",
       "      <td>410.23</td>\n",
       "      <td>2</td>\n",
       "    </tr>\n",
       "    <tr>\n",
       "      <th>4</th>\n",
       "      <td>29</td>\n",
       "      <td>139</td>\n",
       "      <td>537.60</td>\n",
       "      <td>2</td>\n",
       "    </tr>\n",
       "  </tbody>\n",
       "</table>\n",
       "</div>"
      ],
      "text/plain": [
       "   Количество SMS за месяц  Количество звонков  Среднемесячный расход  Кластер\n",
       "0                       56                  82                 121.54        0\n",
       "1                        1                 221                 287.51        2\n",
       "2                       36                  68                 113.70        2\n",
       "3                       23                  96                 410.23        2\n",
       "4                       29                 139                 537.60        2"
      ]
     },
     "execution_count": 9,
     "metadata": {},
     "output_type": "execute_result"
    }
   ],
   "source": [
    "# Импортируем k-means из библиотеки Scikit-learn\n",
    "from sklearn.cluster import KMeans\n",
    "\n",
    "# Создаем экземпляр класса k-means\n",
    "kmeans = KMeans(n_clusters=3, init='k-means++', n_init=10, random_state=0)\n",
    "\n",
    "# Обучаем агоритм на данных с помощью метода fit\n",
    "kmeans.fit(df_s)\n",
    "\n",
    "# Записываем номера кластеров в новый столбец\n",
    "df['Кластер'] = kmeans.labels_\n",
    "df.head()"
   ]
  },
  {
   "cell_type": "markdown",
   "metadata": {},
   "source": [
    "#### Метод локтя"
   ]
  },
  {
   "cell_type": "code",
   "execution_count": 10,
   "metadata": {},
   "outputs": [
    {
     "data": {
      "text/plain": [
       "[<matplotlib.lines.Line2D at 0x211d66ea8a0>]"
      ]
     },
     "execution_count": 10,
     "metadata": {},
     "output_type": "execute_result"
    },
    {
     "data": {
      "image/png": "[encoded data removed]",
      "text/plain": [
       "<Figure size 640x480 with 1 Axes>"
      ]
     },
     "metadata": {},
     "output_type": "display_data"
    }
   ],
   "source": [
    "# Создадим список, в который будем записывать значение критерия качества k-means\n",
    "criterion = []\n",
    "# Количество кластеров будем изменять от 2 до 7\n",
    "for k in range(2,8):\n",
    "    kmeans = KMeans(n_clusters = k)\n",
    "    kmeans.fit(df_s)\n",
    "    criterion.append(kmeans.inertia_)\n",
    "\n",
    "import matplotlib.pyplot as plt\n",
    "plt.plot(range(2,8), criterion)"
   ]
  },
  {
   "cell_type": "markdown",
   "metadata": {},
   "source": [
    "#### Визуализация кластеров"
   ]
  },
  {
   "cell_type": "code",
   "execution_count": 11,
   "metadata": {},
   "outputs": [],
   "source": [
    "# для визуализации в двумерном пространстве из нескольких признаков сконструируем два,\n",
    "# используя метод главных компонент\n",
    "from sklearn.decomposition import PCA\n",
    "\n",
    "# выполняем конструирование признаков, поместим полученные значения\n",
    "# в отдельные столбцы PC1, PC2"
   ]
  },
  {
   "cell_type": "code",
   "execution_count": 16,
   "metadata": {},
   "outputs": [],
   "source": [
    "[PC1, PC2] = PCA(2).fit_transform(df_s).T"
   ]
  },
  {
   "cell_type": "code",
   "execution_count": 19,
   "metadata": {},
   "outputs": [
    {
     "data": {
      "text/plain": [
       "<matplotlib.collections.PathCollection at 0x211d7fc3680>"
      ]
     },
     "execution_count": 19,
     "metadata": {},
     "output_type": "execute_result"
    },
    {
     "data": {
      "image/png": "[encoded data removed]",
      "text/plain": [
       "<Figure size 640x480 with 1 Axes>"
      ]
     },
     "metadata": {},
     "output_type": "display_data"
    }
   ],
   "source": [
    "color = {0: 'r', 1: 'g', 2: 'b'}\n",
    "plt.scatter(PC1, PC2, color=df['Кластер'].apply(lambda a: color[a]))"
   ]
  },
  {
   "cell_type": "markdown",
   "metadata": {},
   "source": [
    "#### Оценка качества кластеризации"
   ]
  },
  {
   "cell_type": "code",
   "execution_count": null,
   "metadata": {},
   "outputs": [],
   "source": [
    "# КОД\n"
   ]
  },
  {
   "cell_type": "markdown",
   "metadata": {},
   "source": [
    "#### Определите наилучшее разбиение"
   ]
  },
  {
   "cell_type": "code",
   "execution_count": null,
   "metadata": {},
   "outputs": [],
   "source": []
  },
  {
   "cell_type": "code",
   "execution_count": null,
   "metadata": {},
   "outputs": [],
   "source": []
  },
  {
   "cell_type": "markdown",
   "metadata": {},
   "source": [
    "### 2. Алгоритм DBSCAN"
   ]
  },
  {
   "cell_type": "code",
   "execution_count": null,
   "metadata": {},
   "outputs": [],
   "source": [
    "# сколько всего кластеров выделил DBSCAN?\n"
   ]
  },
  {
   "cell_type": "code",
   "execution_count": null,
   "metadata": {},
   "outputs": [],
   "source": []
  },
  {
   "cell_type": "markdown",
   "metadata": {},
   "source": [
    "#### Оценка качества кластеризации"
   ]
  },
  {
   "cell_type": "code",
   "execution_count": null,
   "metadata": {},
   "outputs": [],
   "source": []
  },
  {
   "cell_type": "code",
   "execution_count": null,
   "metadata": {},
   "outputs": [],
   "source": []
  },
  {
   "cell_type": "markdown",
   "metadata": {},
   "source": [
    "### 3. Иерархический агломеративный метод"
   ]
  },
  {
   "cell_type": "code",
   "execution_count": null,
   "metadata": {},
   "outputs": [],
   "source": []
  },
  {
   "cell_type": "code",
   "execution_count": null,
   "metadata": {},
   "outputs": [],
   "source": []
  },
  {
   "cell_type": "code",
   "execution_count": null,
   "metadata": {},
   "outputs": [],
   "source": []
  }
 ],
 "metadata": {
  "kernelspec": {
   "display_name": "Python 3 (ipykernel)",
   "language": "python",
   "name": "python3"
  },
  "language_info": {
   "codemirror_mode": {
    "name": "ipython",
    "version": 3
   },
   "file_extension": ".py",
   "mimetype": "text/x-python",
   "name": "python",
   "nbconvert_exporter": "python",
   "pygments_lexer": "ipython3",
   "version": "3.12.2"
  }
 },
 "nbformat": 4,
 "nbformat_minor": 4
}
