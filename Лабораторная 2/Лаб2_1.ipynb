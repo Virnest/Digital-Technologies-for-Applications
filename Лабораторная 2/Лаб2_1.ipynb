{
 "cells": [
  {
   "cell_type": "markdown",
   "metadata": {},
   "source": [
    "### Задача кластеризации"
   ]
  },
  {
   "cell_type": "markdown",
   "metadata": {},
   "source": [
    "#### Примеры:\n",
    "https://www.naftaliharris.com/blog/visualizing-k-means-clustering/"
   ]
  },
  {
   "cell_type": "markdown",
   "metadata": {},
   "source": [
    "#### В Sklearn: https://scikit-learn.org/stable/modules/generated/sklearn.cluster.KMeans.html  \n",
    "\n",
    "Параметры:\n",
    "- n_clusters – количество кластеров. \n",
    "- init – способ инициализации центроидов (по умолчанию ‘k-means++’).\n",
    "- n_init – количество запусков алгоритма со случайной инициализацией центроидов (по умолчанию n_init = 10).\n",
    "- random_state – определяет случайность инициализации центроида.\n",
    "\n",
    "\n",
    "Атрибуты:\n",
    "- cluster_centers_ – координаты центров кластеров.\n",
    "- labels_ – возвращает метки кластеров.\n",
    "- inertia_ – сумма квадратов расстояний наблюдений до ближайшего центра кластера."
   ]
  },
  {
   "cell_type": "markdown",
   "metadata": {},
   "source": [
    "#### Прочитайте материал\n",
    "https://www.dmitrymakarov.ru/intro/clustering-16/"
   ]
  },
  {
   "cell_type": "markdown",
   "metadata": {},
   "source": [
    "### Задание\n",
    "В файле mobile.xlsx находятся данные об абонентах телекоммуникационной\n",
    "компании.  \n",
    "Целью исследования является сегментация абонентской базы для разработки\n",
    "новых тарифов и проведения маркетинговых акций."
   ]
  },
  {
   "cell_type": "code",
   "execution_count": 1,
   "metadata": {},
   "outputs": [
    {
     "data": {
      "text/html": [
       "<div>\n",
       "<style scoped>\n",
       "    .dataframe tbody tr th:only-of-type {\n",
       "        vertical-align: middle;\n",
       "    }\n",
       "\n",
       "    .dataframe tbody tr th {\n",
       "        vertical-align: top;\n",
       "    }\n",
       "\n",
       "    .dataframe thead th {\n",
       "        text-align: right;\n",
       "    }\n",
       "</style>\n",
       "<table border=\"1\" class=\"dataframe\">\n",
       "  <thead>\n",
       "    <tr style=\"text-align: right;\">\n",
       "      <th></th>\n",
       "      <th>Количество SMS за месяц</th>\n",
       "      <th>Количество звонков</th>\n",
       "      <th>Среднемесячный расход</th>\n",
       "    </tr>\n",
       "  </thead>\n",
       "  <tbody>\n",
       "    <tr>\n",
       "      <th>0</th>\n",
       "      <td>56</td>\n",
       "      <td>82</td>\n",
       "      <td>121.54</td>\n",
       "    </tr>\n",
       "    <tr>\n",
       "      <th>1</th>\n",
       "      <td>1</td>\n",
       "      <td>221</td>\n",
       "      <td>287.51</td>\n",
       "    </tr>\n",
       "    <tr>\n",
       "      <th>2</th>\n",
       "      <td>36</td>\n",
       "      <td>68</td>\n",
       "      <td>113.70</td>\n",
       "    </tr>\n",
       "    <tr>\n",
       "      <th>3</th>\n",
       "      <td>23</td>\n",
       "      <td>96</td>\n",
       "      <td>410.23</td>\n",
       "    </tr>\n",
       "    <tr>\n",
       "      <th>4</th>\n",
       "      <td>29</td>\n",
       "      <td>139</td>\n",
       "      <td>537.60</td>\n",
       "    </tr>\n",
       "    <tr>\n",
       "      <th>...</th>\n",
       "      <td>...</td>\n",
       "      <td>...</td>\n",
       "      <td>...</td>\n",
       "    </tr>\n",
       "    <tr>\n",
       "      <th>4487</th>\n",
       "      <td>30</td>\n",
       "      <td>66</td>\n",
       "      <td>186.20</td>\n",
       "    </tr>\n",
       "    <tr>\n",
       "      <th>4488</th>\n",
       "      <td>23</td>\n",
       "      <td>112</td>\n",
       "      <td>500.68</td>\n",
       "    </tr>\n",
       "    <tr>\n",
       "      <th>4489</th>\n",
       "      <td>5</td>\n",
       "      <td>189</td>\n",
       "      <td>470.42</td>\n",
       "    </tr>\n",
       "    <tr>\n",
       "      <th>4490</th>\n",
       "      <td>69</td>\n",
       "      <td>124</td>\n",
       "      <td>858.99</td>\n",
       "    </tr>\n",
       "    <tr>\n",
       "      <th>4491</th>\n",
       "      <td>24</td>\n",
       "      <td>136</td>\n",
       "      <td>151.92</td>\n",
       "    </tr>\n",
       "  </tbody>\n",
       "</table>\n",
       "<p>4492 rows × 3 columns</p>\n",
       "</div>"
      ],
      "text/plain": [
       "      Количество SMS за месяц  Количество звонков  Среднемесячный расход\n",
       "0                          56                  82                 121.54\n",
       "1                           1                 221                 287.51\n",
       "2                          36                  68                 113.70\n",
       "3                          23                  96                 410.23\n",
       "4                          29                 139                 537.60\n",
       "...                       ...                 ...                    ...\n",
       "4487                       30                  66                 186.20\n",
       "4488                       23                 112                 500.68\n",
       "4489                        5                 189                 470.42\n",
       "4490                       69                 124                 858.99\n",
       "4491                       24                 136                 151.92\n",
       "\n",
       "[4492 rows x 3 columns]"
      ]
     },
     "execution_count": 1,
     "metadata": {},
     "output_type": "execute_result"
    }
   ],
   "source": [
    "import pandas as pd\n",
    "df = pd.read_excel('mobile.xlsx')\n",
    "df"
   ]
  },
  {
   "cell_type": "code",
   "execution_count": 2,
   "metadata": {},
   "outputs": [
    {
     "name": "stdout",
     "output_type": "stream",
     "text": [
      "<class 'pandas.core.frame.DataFrame'>\n",
      "RangeIndex: 4492 entries, 0 to 4491\n",
      "Data columns (total 3 columns):\n",
      " #   Column                   Non-Null Count  Dtype  \n",
      "---  ------                   --------------  -----  \n",
      " 0   Количество SMS за месяц  4492 non-null   int64  \n",
      " 1   Количество звонков       4492 non-null   int64  \n",
      " 2   Среднемесячный расход    4492 non-null   float64\n",
      "dtypes: float64(1), int64(2)\n",
      "memory usage: 105.4 KB\n"
     ]
    }
   ],
   "source": [
    "df.info()"
   ]
  },
  {
   "cell_type": "code",
   "execution_count": 3,
   "metadata": {},
   "outputs": [
    {
     "data": {
      "text/html": [
       "<div>\n",
       "<style scoped>\n",
       "    .dataframe tbody tr th:only-of-type {\n",
       "        vertical-align: middle;\n",
       "    }\n",
       "\n",
       "    .dataframe tbody tr th {\n",
       "        vertical-align: top;\n",
       "    }\n",
       "\n",
       "    .dataframe thead th {\n",
       "        text-align: right;\n",
       "    }\n",
       "</style>\n",
       "<table border=\"1\" class=\"dataframe\">\n",
       "  <thead>\n",
       "    <tr style=\"text-align: right;\">\n",
       "      <th></th>\n",
       "      <th>Количество SMS за месяц</th>\n",
       "      <th>Количество звонков</th>\n",
       "      <th>Среднемесячный расход</th>\n",
       "    </tr>\n",
       "  </thead>\n",
       "  <tbody>\n",
       "    <tr>\n",
       "      <th>count</th>\n",
       "      <td>4492.000000</td>\n",
       "      <td>4492.000000</td>\n",
       "      <td>4492.000000</td>\n",
       "    </tr>\n",
       "    <tr>\n",
       "      <th>mean</th>\n",
       "      <td>21.243321</td>\n",
       "      <td>140.480632</td>\n",
       "      <td>506.155512</td>\n",
       "    </tr>\n",
       "    <tr>\n",
       "      <th>std</th>\n",
       "      <td>27.911864</td>\n",
       "      <td>91.742992</td>\n",
       "      <td>646.252023</td>\n",
       "    </tr>\n",
       "    <tr>\n",
       "      <th>min</th>\n",
       "      <td>0.000000</td>\n",
       "      <td>2.000000</td>\n",
       "      <td>3.180000</td>\n",
       "    </tr>\n",
       "    <tr>\n",
       "      <th>25%</th>\n",
       "      <td>3.000000</td>\n",
       "      <td>94.000000</td>\n",
       "      <td>152.880000</td>\n",
       "    </tr>\n",
       "    <tr>\n",
       "      <th>50%</th>\n",
       "      <td>6.000000</td>\n",
       "      <td>129.000000</td>\n",
       "      <td>316.960000</td>\n",
       "    </tr>\n",
       "    <tr>\n",
       "      <th>75%</th>\n",
       "      <td>32.000000</td>\n",
       "      <td>168.000000</td>\n",
       "      <td>600.032500</td>\n",
       "    </tr>\n",
       "    <tr>\n",
       "      <th>max</th>\n",
       "      <td>179.000000</td>\n",
       "      <td>635.000000</td>\n",
       "      <td>5142.760000</td>\n",
       "    </tr>\n",
       "  </tbody>\n",
       "</table>\n",
       "</div>"
      ],
      "text/plain": [
       "       Количество SMS за месяц  Количество звонков  Среднемесячный расход\n",
       "count              4492.000000         4492.000000            4492.000000\n",
       "mean                 21.243321          140.480632             506.155512\n",
       "std                  27.911864           91.742992             646.252023\n",
       "min                   0.000000            2.000000               3.180000\n",
       "25%                   3.000000           94.000000             152.880000\n",
       "50%                   6.000000          129.000000             316.960000\n",
       "75%                  32.000000          168.000000             600.032500\n",
       "max                 179.000000          635.000000            5142.760000"
      ]
     },
     "execution_count": 3,
     "metadata": {},
     "output_type": "execute_result"
    }
   ],
   "source": [
    "df.describe()"
   ]
  },
  {
   "cell_type": "code",
   "execution_count": 4,
   "metadata": {},
   "outputs": [],
   "source": [
    "# подключим функции для реализации алгоритмов кластеризации\n",
    "from sklearn.cluster import AgglomerativeClustering, KMeans, DBSCAN\n",
    "# подключим метрики ARI и \"силуэт\"\n",
    "from sklearn.metrics import adjusted_rand_score, silhouette_score"
   ]
  },
  {
   "cell_type": "code",
   "execution_count": 5,
   "metadata": {},
   "outputs": [],
   "source": [
    "# как и в случае классификации, выполним нормализацию данных\n",
    "# однако делить данные на обучающую и тестовую выборку не будем -\n",
    "# в задаче кластеризации это не требуется. Есть просто набор данных\n",
    "# (в нашем случае размеченных - мы знаем истинное разбиение на кластеры),\n",
    "# нужно отнести каждый объект набора к тому или иному кластеру\n",
    "\n",
    "#from sklearn.preprocessing import MinMaxScaler  # минимаксная нормализация"
   ]
  },
  {
   "cell_type": "code",
   "execution_count": 56,
   "metadata": {},
   "outputs": [
    {
     "data": {
      "text/html": [
       "<div>\n",
       "<style scoped>\n",
       "    .dataframe tbody tr th:only-of-type {\n",
       "        vertical-align: middle;\n",
       "    }\n",
       "\n",
       "    .dataframe tbody tr th {\n",
       "        vertical-align: top;\n",
       "    }\n",
       "\n",
       "    .dataframe thead th {\n",
       "        text-align: right;\n",
       "    }\n",
       "</style>\n",
       "<table border=\"1\" class=\"dataframe\">\n",
       "  <thead>\n",
       "    <tr style=\"text-align: right;\">\n",
       "      <th></th>\n",
       "      <th>Количество SMS за месяц</th>\n",
       "      <th>Количество звонков</th>\n",
       "      <th>Среднемесячный расход</th>\n",
       "      <th>Кластер</th>\n",
       "    </tr>\n",
       "  </thead>\n",
       "  <tbody>\n",
       "    <tr>\n",
       "      <th>0</th>\n",
       "      <td>0.312849</td>\n",
       "      <td>0.126382</td>\n",
       "      <td>0.023029</td>\n",
       "      <td>0.0</td>\n",
       "    </tr>\n",
       "    <tr>\n",
       "      <th>1</th>\n",
       "      <td>0.005587</td>\n",
       "      <td>0.345972</td>\n",
       "      <td>0.055322</td>\n",
       "      <td>1.0</td>\n",
       "    </tr>\n",
       "    <tr>\n",
       "      <th>2</th>\n",
       "      <td>0.201117</td>\n",
       "      <td>0.104265</td>\n",
       "      <td>0.021504</td>\n",
       "      <td>1.0</td>\n",
       "    </tr>\n",
       "    <tr>\n",
       "      <th>3</th>\n",
       "      <td>0.128492</td>\n",
       "      <td>0.148499</td>\n",
       "      <td>0.079199</td>\n",
       "      <td>1.0</td>\n",
       "    </tr>\n",
       "    <tr>\n",
       "      <th>4</th>\n",
       "      <td>0.162011</td>\n",
       "      <td>0.216430</td>\n",
       "      <td>0.103981</td>\n",
       "      <td>1.0</td>\n",
       "    </tr>\n",
       "    <tr>\n",
       "      <th>...</th>\n",
       "      <td>...</td>\n",
       "      <td>...</td>\n",
       "      <td>...</td>\n",
       "      <td>...</td>\n",
       "    </tr>\n",
       "    <tr>\n",
       "      <th>4487</th>\n",
       "      <td>0.167598</td>\n",
       "      <td>0.101106</td>\n",
       "      <td>0.035610</td>\n",
       "      <td>1.0</td>\n",
       "    </tr>\n",
       "    <tr>\n",
       "      <th>4488</th>\n",
       "      <td>0.128492</td>\n",
       "      <td>0.173776</td>\n",
       "      <td>0.096798</td>\n",
       "      <td>1.0</td>\n",
       "    </tr>\n",
       "    <tr>\n",
       "      <th>4489</th>\n",
       "      <td>0.027933</td>\n",
       "      <td>0.295419</td>\n",
       "      <td>0.090910</td>\n",
       "      <td>1.0</td>\n",
       "    </tr>\n",
       "    <tr>\n",
       "      <th>4490</th>\n",
       "      <td>0.385475</td>\n",
       "      <td>0.192733</td>\n",
       "      <td>0.166514</td>\n",
       "      <td>0.0</td>\n",
       "    </tr>\n",
       "    <tr>\n",
       "      <th>4491</th>\n",
       "      <td>0.134078</td>\n",
       "      <td>0.211690</td>\n",
       "      <td>0.028940</td>\n",
       "      <td>1.0</td>\n",
       "    </tr>\n",
       "  </tbody>\n",
       "</table>\n",
       "<p>4492 rows × 4 columns</p>\n",
       "</div>"
      ],
      "text/plain": [
       "      Количество SMS за месяц  Количество звонков  Среднемесячный расход  \\\n",
       "0                    0.312849            0.126382               0.023029   \n",
       "1                    0.005587            0.345972               0.055322   \n",
       "2                    0.201117            0.104265               0.021504   \n",
       "3                    0.128492            0.148499               0.079199   \n",
       "4                    0.162011            0.216430               0.103981   \n",
       "...                       ...                 ...                    ...   \n",
       "4487                 0.167598            0.101106               0.035610   \n",
       "4488                 0.128492            0.173776               0.096798   \n",
       "4489                 0.027933            0.295419               0.090910   \n",
       "4490                 0.385475            0.192733               0.166514   \n",
       "4491                 0.134078            0.211690               0.028940   \n",
       "\n",
       "      Кластер  \n",
       "0         0.0  \n",
       "1         1.0  \n",
       "2         1.0  \n",
       "3         1.0  \n",
       "4         1.0  \n",
       "...       ...  \n",
       "4487      1.0  \n",
       "4488      1.0  \n",
       "4489      1.0  \n",
       "4490      0.0  \n",
       "4491      1.0  \n",
       "\n",
       "[4492 rows x 4 columns]"
      ]
     },
     "execution_count": 56,
     "metadata": {},
     "output_type": "execute_result"
    }
   ],
   "source": [
    "# Нормализация данных\n",
    "# КОД\n",
    "df_s = (df - df.min())/(df.max() - df.min())\n",
    "df_s"
   ]
  },
  {
   "cell_type": "code",
   "execution_count": 57,
   "metadata": {},
   "outputs": [],
   "source": [
    "# подключим функции для реализации алгоритмов кластеризации\n",
    "from sklearn.cluster import AgglomerativeClustering, KMeans, DBSCAN\n",
    "# подключим метрики ARI и \"силуэт\"\n",
    "from sklearn.metrics import adjusted_rand_score, silhouette_score"
   ]
  },
  {
   "cell_type": "markdown",
   "metadata": {},
   "source": [
    "### 1. Метод k-means"
   ]
  },
  {
   "cell_type": "code",
   "execution_count": 58,
   "metadata": {},
   "outputs": [
    {
     "data": {
      "text/html": [
       "<div>\n",
       "<style scoped>\n",
       "    .dataframe tbody tr th:only-of-type {\n",
       "        vertical-align: middle;\n",
       "    }\n",
       "\n",
       "    .dataframe tbody tr th {\n",
       "        vertical-align: top;\n",
       "    }\n",
       "\n",
       "    .dataframe thead th {\n",
       "        text-align: right;\n",
       "    }\n",
       "</style>\n",
       "<table border=\"1\" class=\"dataframe\">\n",
       "  <thead>\n",
       "    <tr style=\"text-align: right;\">\n",
       "      <th></th>\n",
       "      <th>Количество SMS за месяц</th>\n",
       "      <th>Количество звонков</th>\n",
       "      <th>Среднемесячный расход</th>\n",
       "      <th>Кластер</th>\n",
       "    </tr>\n",
       "  </thead>\n",
       "  <tbody>\n",
       "    <tr>\n",
       "      <th>0</th>\n",
       "      <td>56</td>\n",
       "      <td>82</td>\n",
       "      <td>121.54</td>\n",
       "      <td>1</td>\n",
       "    </tr>\n",
       "    <tr>\n",
       "      <th>1</th>\n",
       "      <td>1</td>\n",
       "      <td>221</td>\n",
       "      <td>287.51</td>\n",
       "      <td>2</td>\n",
       "    </tr>\n",
       "    <tr>\n",
       "      <th>2</th>\n",
       "      <td>36</td>\n",
       "      <td>68</td>\n",
       "      <td>113.70</td>\n",
       "      <td>2</td>\n",
       "    </tr>\n",
       "    <tr>\n",
       "      <th>3</th>\n",
       "      <td>23</td>\n",
       "      <td>96</td>\n",
       "      <td>410.23</td>\n",
       "      <td>2</td>\n",
       "    </tr>\n",
       "    <tr>\n",
       "      <th>4</th>\n",
       "      <td>29</td>\n",
       "      <td>139</td>\n",
       "      <td>537.60</td>\n",
       "      <td>2</td>\n",
       "    </tr>\n",
       "  </tbody>\n",
       "</table>\n",
       "</div>"
      ],
      "text/plain": [
       "   Количество SMS за месяц  Количество звонков  Среднемесячный расход  Кластер\n",
       "0                       56                  82                 121.54        1\n",
       "1                        1                 221                 287.51        2\n",
       "2                       36                  68                 113.70        2\n",
       "3                       23                  96                 410.23        2\n",
       "4                       29                 139                 537.60        2"
      ]
     },
     "execution_count": 58,
     "metadata": {},
     "output_type": "execute_result"
    }
   ],
   "source": [
    "# Импортируем k-means из библиотеки Scikit-learn\n",
    "from sklearn.cluster import KMeans\n",
    "\n",
    "# Создаем экземпляр класса k-means\n",
    "kmeans = KMeans(n_clusters=3, init='k-means++', n_init=10, random_state=0)\n",
    "\n",
    "# Обучаем агоритм на данных с помощью метода fit\n",
    "kmeans.fit(df_s)\n",
    "\n",
    "# Записываем номера кластеров в новый столбец\n",
    "df['Кластер'] = kmeans.labels_\n",
    "df.head()"
   ]
  },
  {
   "cell_type": "markdown",
   "metadata": {},
   "source": [
    "#### Метод локтя"
   ]
  },
  {
   "cell_type": "code",
   "execution_count": 59,
   "metadata": {},
   "outputs": [
    {
     "data": {
      "text/plain": [
       "[<matplotlib.lines.Line2D at 0x26567d15c90>]"
      ]
     },
     "execution_count": 59,
     "metadata": {},
     "output_type": "execute_result"
    },
    {
     "data": {
      "image/png": "[encoded data removed]",
      "text/plain": [
       "<Figure size 640x480 with 1 Axes>"
      ]
     },
     "metadata": {},
     "output_type": "display_data"
    }
   ],
   "source": [
    "# Создадим список, в который будем записывать значение критерия качества k-means\n",
    "criterion = []\n",
    "# Количество кластеров будем изменять от 2 до 7\n",
    "for k in range(2,8):\n",
    "    kmeans = KMeans(n_clusters = k)\n",
    "    kmeans.fit(df_s)\n",
    "    criterion.append(kmeans.inertia_)\n",
    "\n",
    "import matplotlib.pyplot as plt\n",
    "plt.plot(range(2,8), criterion)"
   ]
  },
  {
   "cell_type": "markdown",
   "metadata": {},
   "source": [
    "#### Визуализация кластеров"
   ]
  },
  {
   "cell_type": "code",
   "execution_count": 60,
   "metadata": {},
   "outputs": [],
   "source": [
    "# для визуализации в двумерном пространстве из нескольких признаков сконструируем два,\n",
    "# используя метод главных компонент\n",
    "from sklearn.decomposition import PCA\n",
    "\n",
    "# выполняем конструирование признаков, поместим полученные значения\n",
    "# в отдельные столбцы PC1, PC2"
   ]
  },
  {
   "cell_type": "code",
   "execution_count": 61,
   "metadata": {},
   "outputs": [],
   "source": [
    "[PC1, PC2] = PCA(2).fit_transform(df_s).T"
   ]
  },
  {
   "cell_type": "code",
   "execution_count": 62,
   "metadata": {},
   "outputs": [
    {
     "data": {
      "text/plain": [
       "<matplotlib.collections.PathCollection at 0x2650c5a84d0>"
      ]
     },
     "execution_count": 62,
     "metadata": {},
     "output_type": "execute_result"
    },
    {
     "data": {
      "image/png": "[encoded data removed]",
      "text/plain": [
       "<Figure size 640x480 with 1 Axes>"
      ]
     },
     "metadata": {},
     "output_type": "display_data"
    }
   ],
   "source": [
    "color = {0: 'r', 1: 'g', 2: 'b'}\n",
    "plt.scatter(PC1, PC2, color=df['Кластер'].apply(lambda a: color[a]))"
   ]
  },
  {
   "cell_type": "markdown",
   "metadata": {},
   "source": [
    "#### Оценка качества кластеризации"
   ]
  },
  {
   "cell_type": "code",
   "execution_count": 69,
   "metadata": {},
   "outputs": [
    {
     "name": "stdout",
     "output_type": "stream",
     "text": [
      "ARS - Количество SMS за месяц:  0.12244075777022138\n",
      "ARS - Количество звонков:  0.010266321485265946\n",
      "ARS - Среднемесячный расход:  0.00029311849855416245\n",
      "ARS - Кластер:  0.312968244020193\n"
     ]
    },
    {
     "name": "stderr",
     "output_type": "stream",
     "text": [
      "C:\\Users\\Laptop8\\AppData\\Local\\Programs\\Python\\Python311\\Lib\\site-packages\\sklearn\\metrics\\cluster\\_supervised.py:66: UserWarning: Clustering metrics expects discrete values but received continuous values for label, and multiclass values for target\n",
      "  warnings.warn(msg, UserWarning)\n"
     ]
    }
   ],
   "source": [
    "# КОД\n",
    "from sklearn.metrics import silhouette_score as s_score\n",
    "from sklearn.metrics import adjusted_rand_score as ars\n",
    "s_score(df_s, kmeans.predict(df_s))\n",
    "for col in df.columns[:]:\n",
    "    print(f'ARS - {col}: ', ars(df[col], kmeans.labels_))"
   ]
  },
  {
   "cell_type": "markdown",
   "metadata": {},
   "source": [
    "### 2. Алгоритм DBSCAN"
   ]
  },
  {
   "cell_type": "code",
   "execution_count": 64,
   "metadata": {},
   "outputs": [],
   "source": [
    "# сколько всего кластеров выделил DBSCAN?"
   ]
  },
  {
   "cell_type": "code",
   "execution_count": 70,
   "metadata": {},
   "outputs": [
    {
     "data": {
      "text/plain": [
       "array([0, 1, 1, ..., 1, 1, 0], dtype=int64)"
      ]
     },
     "execution_count": 70,
     "metadata": {},
     "output_type": "execute_result"
    }
   ],
   "source": [
    "dbsca = DBSCAN(min_samples=5)\n",
    "dbsca.fit_predict(df_s[:-1])"
   ]
  },
  {
   "cell_type": "markdown",
   "metadata": {},
   "source": [
    "#### Оценка качества кластеризации"
   ]
  },
  {
   "cell_type": "code",
   "execution_count": 74,
   "metadata": {},
   "outputs": [
    {
     "name": "stdout",
     "output_type": "stream",
     "text": [
      "ARS - Количество SMS за месяц:  0.045939809055158015\n",
      "ARS - Количество звонков:  0.0020358136983988444\n",
      "ARS - Среднемесячный расход:  6.530529069461199e-05\n",
      "ARS - Кластер:  1.0\n"
     ]
    },
    {
     "name": "stderr",
     "output_type": "stream",
     "text": [
      "C:\\Users\\Laptop8\\AppData\\Local\\Programs\\Python\\Python311\\Lib\\site-packages\\sklearn\\metrics\\cluster\\_supervised.py:66: UserWarning: Clustering metrics expects discrete values but received continuous values for label, and multiclass values for target\n",
      "  warnings.warn(msg, UserWarning)\n"
     ]
    }
   ],
   "source": [
    "#s_score(df_s, dbsca.fit_predict(df_s))\n",
    "for col in df.columns[:]:\n",
    "    print(f'ARS - {col}: ', ars(df[col][:-1], dbsca.labels_))"
   ]
  },
  {
   "cell_type": "code",
   "execution_count": null,
   "metadata": {},
   "outputs": [],
   "source": []
  },
  {
   "cell_type": "markdown",
   "metadata": {},
   "source": [
    "### 3. Иерархический агломеративный метод"
   ]
  },
  {
   "cell_type": "code",
   "execution_count": 86,
   "metadata": {},
   "outputs": [
    {
     "data": {
      "text/plain": [
       "array([3, 1, 3, ..., 1, 0, 3], dtype=int64)"
      ]
     },
     "execution_count": 86,
     "metadata": {},
     "output_type": "execute_result"
    }
   ],
   "source": [
    "aggcl = AgglomerativeClustering(n_clusters=5)\n",
    "aggcl.fit_predict(df)"
   ]
  },
  {
   "cell_type": "code",
   "execution_count": 89,
   "metadata": {},
   "outputs": [
    {
     "name": "stdout",
     "output_type": "stream",
     "text": [
      "0.48317264487129535\n",
      "ARS - Количество SMS за месяц:  0.045939809055158015\n",
      "ARS - Количество звонков:  0.0020358136983988444\n",
      "ARS - Среднемесячный расход:  6.530529069461199e-05\n",
      "ARS - Кластер:  1.0\n"
     ]
    },
    {
     "name": "stderr",
     "output_type": "stream",
     "text": [
      "C:\\Users\\Laptop8\\AppData\\Local\\Programs\\Python\\Python311\\Lib\\site-packages\\sklearn\\metrics\\cluster\\_supervised.py:66: UserWarning: Clustering metrics expects discrete values but received continuous values for label, and multiclass values for target\n",
      "  warnings.warn(msg, UserWarning)\n"
     ]
    }
   ],
   "source": [
    "print(s_score(df, aggcl.fit_predict(df)))\n",
    "for col in df.columns[:]:\n",
    "    print(f'ARS - {col}: ', ars(df[col][:-1], dbsca.labels_))"
   ]
  },
  {
   "cell_type": "code",
   "execution_count": null,
   "metadata": {},
   "outputs": [],
   "source": []
  }
 ],
 "metadata": {
  "kernelspec": {
   "display_name": "Python 3 (ipykernel)",
   "language": "python",
   "name": "python3"
  },
  "language_info": {
   "codemirror_mode": {
    "name": "ipython",
    "version": 3
   },
   "file_extension": ".py",
   "mimetype": "text/x-python",
   "name": "python",
   "nbconvert_exporter": "python",
   "pygments_lexer": "ipython3",
   "version": "3.11.5"
  }
 },
 "nbformat": 4,
 "nbformat_minor": 4
}
