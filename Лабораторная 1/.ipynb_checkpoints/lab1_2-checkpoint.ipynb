{
 "cells": [
  {
   "cell_type": "code",
   "execution_count": 1,
   "id": "331f2ce1-0e64-4642-9d1a-d3e250c40709",
   "metadata": {},
   "outputs": [],
   "source": [
    "import numpy as np\n",
    "import pandas as pd\n",
    "import seaborn as sns\n",
    "import matplotlib.pyplot as plt"
   ]
  },
  {
   "cell_type": "markdown",
   "id": "665322cf-3c07-4a44-97eb-914e143d2e08",
   "metadata": {},
   "source": [
    "# Подготовка данных"
   ]
  },
  {
   "cell_type": "code",
   "execution_count": 2,
   "id": "b8138f93-94e9-4a54-ba94-d7f271225dde",
   "metadata": {},
   "outputs": [
    {
     "data": {
      "text/html": [
       "<div>\n",
       "<style scoped>\n",
       "    .dataframe tbody tr th:only-of-type {\n",
       "        vertical-align: middle;\n",
       "    }\n",
       "\n",
       "    .dataframe tbody tr th {\n",
       "        vertical-align: top;\n",
       "    }\n",
       "\n",
       "    .dataframe thead th {\n",
       "        text-align: right;\n",
       "    }\n",
       "</style>\n",
       "<table border=\"1\" class=\"dataframe\">\n",
       "  <thead>\n",
       "    <tr style=\"text-align: right;\">\n",
       "      <th></th>\n",
       "      <th>Pregnancies</th>\n",
       "      <th>Glucose</th>\n",
       "      <th>BloodPressure</th>\n",
       "      <th>SkinThickness</th>\n",
       "      <th>Insulin</th>\n",
       "      <th>BMI</th>\n",
       "      <th>DiabetesPedigreeFunction</th>\n",
       "      <th>Age</th>\n",
       "      <th>Outcome</th>\n",
       "    </tr>\n",
       "  </thead>\n",
       "  <tbody>\n",
       "    <tr>\n",
       "      <th>0</th>\n",
       "      <td>6</td>\n",
       "      <td>148</td>\n",
       "      <td>72</td>\n",
       "      <td>35</td>\n",
       "      <td>0</td>\n",
       "      <td>33.6</td>\n",
       "      <td>0.627</td>\n",
       "      <td>50</td>\n",
       "      <td>1</td>\n",
       "    </tr>\n",
       "    <tr>\n",
       "      <th>1</th>\n",
       "      <td>1</td>\n",
       "      <td>85</td>\n",
       "      <td>66</td>\n",
       "      <td>29</td>\n",
       "      <td>0</td>\n",
       "      <td>26.6</td>\n",
       "      <td>0.351</td>\n",
       "      <td>31</td>\n",
       "      <td>0</td>\n",
       "    </tr>\n",
       "    <tr>\n",
       "      <th>2</th>\n",
       "      <td>8</td>\n",
       "      <td>183</td>\n",
       "      <td>64</td>\n",
       "      <td>0</td>\n",
       "      <td>0</td>\n",
       "      <td>23.3</td>\n",
       "      <td>0.672</td>\n",
       "      <td>32</td>\n",
       "      <td>1</td>\n",
       "    </tr>\n",
       "    <tr>\n",
       "      <th>3</th>\n",
       "      <td>1</td>\n",
       "      <td>89</td>\n",
       "      <td>66</td>\n",
       "      <td>23</td>\n",
       "      <td>94</td>\n",
       "      <td>28.1</td>\n",
       "      <td>0.167</td>\n",
       "      <td>21</td>\n",
       "      <td>0</td>\n",
       "    </tr>\n",
       "    <tr>\n",
       "      <th>4</th>\n",
       "      <td>0</td>\n",
       "      <td>137</td>\n",
       "      <td>40</td>\n",
       "      <td>35</td>\n",
       "      <td>168</td>\n",
       "      <td>43.1</td>\n",
       "      <td>2.288</td>\n",
       "      <td>33</td>\n",
       "      <td>1</td>\n",
       "    </tr>\n",
       "    <tr>\n",
       "      <th>...</th>\n",
       "      <td>...</td>\n",
       "      <td>...</td>\n",
       "      <td>...</td>\n",
       "      <td>...</td>\n",
       "      <td>...</td>\n",
       "      <td>...</td>\n",
       "      <td>...</td>\n",
       "      <td>...</td>\n",
       "      <td>...</td>\n",
       "    </tr>\n",
       "    <tr>\n",
       "      <th>763</th>\n",
       "      <td>10</td>\n",
       "      <td>101</td>\n",
       "      <td>76</td>\n",
       "      <td>48</td>\n",
       "      <td>180</td>\n",
       "      <td>32.9</td>\n",
       "      <td>0.171</td>\n",
       "      <td>63</td>\n",
       "      <td>0</td>\n",
       "    </tr>\n",
       "    <tr>\n",
       "      <th>764</th>\n",
       "      <td>2</td>\n",
       "      <td>122</td>\n",
       "      <td>70</td>\n",
       "      <td>27</td>\n",
       "      <td>0</td>\n",
       "      <td>36.8</td>\n",
       "      <td>0.340</td>\n",
       "      <td>27</td>\n",
       "      <td>0</td>\n",
       "    </tr>\n",
       "    <tr>\n",
       "      <th>765</th>\n",
       "      <td>5</td>\n",
       "      <td>121</td>\n",
       "      <td>72</td>\n",
       "      <td>23</td>\n",
       "      <td>112</td>\n",
       "      <td>26.2</td>\n",
       "      <td>0.245</td>\n",
       "      <td>30</td>\n",
       "      <td>0</td>\n",
       "    </tr>\n",
       "    <tr>\n",
       "      <th>766</th>\n",
       "      <td>1</td>\n",
       "      <td>126</td>\n",
       "      <td>60</td>\n",
       "      <td>0</td>\n",
       "      <td>0</td>\n",
       "      <td>30.1</td>\n",
       "      <td>0.349</td>\n",
       "      <td>47</td>\n",
       "      <td>1</td>\n",
       "    </tr>\n",
       "    <tr>\n",
       "      <th>767</th>\n",
       "      <td>1</td>\n",
       "      <td>93</td>\n",
       "      <td>70</td>\n",
       "      <td>31</td>\n",
       "      <td>0</td>\n",
       "      <td>30.4</td>\n",
       "      <td>0.315</td>\n",
       "      <td>23</td>\n",
       "      <td>0</td>\n",
       "    </tr>\n",
       "  </tbody>\n",
       "</table>\n",
       "<p>768 rows × 9 columns</p>\n",
       "</div>"
      ],
      "text/plain": [
       "     Pregnancies  Glucose  BloodPressure  SkinThickness  Insulin   BMI  \\\n",
       "0              6      148             72             35        0  33.6   \n",
       "1              1       85             66             29        0  26.6   \n",
       "2              8      183             64              0        0  23.3   \n",
       "3              1       89             66             23       94  28.1   \n",
       "4              0      137             40             35      168  43.1   \n",
       "..           ...      ...            ...            ...      ...   ...   \n",
       "763           10      101             76             48      180  32.9   \n",
       "764            2      122             70             27        0  36.8   \n",
       "765            5      121             72             23      112  26.2   \n",
       "766            1      126             60              0        0  30.1   \n",
       "767            1       93             70             31        0  30.4   \n",
       "\n",
       "     DiabetesPedigreeFunction  Age  Outcome  \n",
       "0                       0.627   50        1  \n",
       "1                       0.351   31        0  \n",
       "2                       0.672   32        1  \n",
       "3                       0.167   21        0  \n",
       "4                       2.288   33        1  \n",
       "..                        ...  ...      ...  \n",
       "763                     0.171   63        0  \n",
       "764                     0.340   27        0  \n",
       "765                     0.245   30        0  \n",
       "766                     0.349   47        1  \n",
       "767                     0.315   23        0  \n",
       "\n",
       "[768 rows x 9 columns]"
      ]
     },
     "execution_count": 2,
     "metadata": {},
     "output_type": "execute_result"
    }
   ],
   "source": [
    "data = pd.read_csv(\"diabetes.csv\")\n",
    "data"
   ]
  },
  {
   "cell_type": "code",
   "execution_count": 3,
   "id": "7ab49bf1-cbc5-4d2c-ba1a-50c4eda2d76d",
   "metadata": {},
   "outputs": [
    {
     "name": "stdout",
     "output_type": "stream",
     "text": [
      "<class 'pandas.core.frame.DataFrame'>\n",
      "RangeIndex: 768 entries, 0 to 767\n",
      "Data columns (total 9 columns):\n",
      " #   Column                    Non-Null Count  Dtype  \n",
      "---  ------                    --------------  -----  \n",
      " 0   Pregnancies               768 non-null    int64  \n",
      " 1   Glucose                   768 non-null    int64  \n",
      " 2   BloodPressure             768 non-null    int64  \n",
      " 3   SkinThickness             768 non-null    int64  \n",
      " 4   Insulin                   768 non-null    int64  \n",
      " 5   BMI                       768 non-null    float64\n",
      " 6   DiabetesPedigreeFunction  768 non-null    float64\n",
      " 7   Age                       768 non-null    int64  \n",
      " 8   Outcome                   768 non-null    int64  \n",
      "dtypes: float64(2), int64(7)\n",
      "memory usage: 54.1 KB\n"
     ]
    }
   ],
   "source": [
    "data.info()"
   ]
  },
  {
   "cell_type": "code",
   "execution_count": 4,
   "id": "00abcdf1-7763-49dd-b705-cbef168586d9",
   "metadata": {},
   "outputs": [
    {
     "data": {
      "text/plain": [
       "Pregnancies  Glucose  BloodPressure  SkinThickness  Insulin  BMI   DiabetesPedigreeFunction  Age  Outcome\n",
       "0            57       60             0              0        21.7  0.735                     67   0          1\n",
       "             67       76             0              0        45.3  0.194                     46   0          1\n",
       "5            103      108            37             0        39.2  0.305                     65   0          1\n",
       "             104      74             0              0        28.8  0.153                     48   0          1\n",
       "             105      72             29             325      36.9  0.159                     28   0          1\n",
       "                                                                                                            ..\n",
       "2            84       50             23             76       30.4  0.968                     21   0          1\n",
       "             85       65             0              0        39.6  0.930                     27   0          1\n",
       "             87       0              23             0        28.9  0.773                     25   0          1\n",
       "                      58             16             52       32.7  0.166                     25   0          1\n",
       "17           163      72             41             114      40.9  0.817                     47   1          1\n",
       "Name: count, Length: 768, dtype: int64"
      ]
     },
     "execution_count": 4,
     "metadata": {},
     "output_type": "execute_result"
    }
   ],
   "source": [
    "data.value_counts()"
   ]
  },
  {
   "cell_type": "code",
   "execution_count": 5,
   "id": "a84805e4-8502-4dd0-81f3-1fd34dcdaef0",
   "metadata": {},
   "outputs": [],
   "source": [
    "X = data[data.columns[:-1:]]\n",
    "y = data[data.columns[-1]]"
   ]
  },
  {
   "cell_type": "code",
   "execution_count": 6,
   "id": "e41c7c45-73d6-4140-9cf8-942b29f42da9",
   "metadata": {},
   "outputs": [],
   "source": [
    "from sklearn.model_selection import train_test_split\n",
    "X_train, X_test, y_train, y_test = train_test_split(X, y, test_size = 0.1)"
   ]
  },
  {
   "cell_type": "markdown",
   "id": "a125d790-2bbd-44d3-ace1-6b402b4c5b50",
   "metadata": {},
   "source": [
    "# Модели"
   ]
  },
  {
   "cell_type": "code",
   "execution_count": 7,
   "id": "d9159c92-11ce-4b83-93b5-66d546e2b55a",
   "metadata": {},
   "outputs": [],
   "source": [
    "from sklearn.linear_model import LogisticRegression \n",
    "from sklearn import svm"
   ]
  },
  {
   "cell_type": "code",
   "execution_count": 8,
   "id": "8dba81f5-5048-46ab-a4f7-c0617f38cbed",
   "metadata": {},
   "outputs": [],
   "source": [
    "from sklearn.preprocessing import StandardScaler"
   ]
  },
  {
   "cell_type": "code",
   "execution_count": 9,
   "id": "bb44e82d-6bba-44f3-b8ff-91a4c19ec66a",
   "metadata": {},
   "outputs": [],
   "source": [
    "from sklearn.metrics import classification_report as c_rep\n"
   ]
  },
  {
   "cell_type": "code",
   "execution_count": 10,
   "id": "56c72317-d643-4a09-bc3e-d10b32103175",
   "metadata": {},
   "outputs": [],
   "source": [
    "from sklearn.model_selection import cross_val_score"
   ]
  },
  {
   "cell_type": "code",
   "execution_count": 11,
   "id": "e20da35a-999c-4e10-9f9b-58d734e40d9f",
   "metadata": {},
   "outputs": [],
   "source": [
    "X_train_s = StandardScaler().fit_transform(X_train)\n",
    "X_test_s = StandardScaler().fit_transform(X_test)\n"
   ]
  },
  {
   "cell_type": "markdown",
   "id": "0f61869e-2bf8-4002-ab65-f784110d0999",
   "metadata": {},
   "source": [
    "# LogisticRegression"
   ]
  },
  {
   "cell_type": "code",
   "execution_count": 12,
   "id": "ff021697-e271-4f84-8381-dc48113bd274",
   "metadata": {},
   "outputs": [],
   "source": [
    "LR = LogisticRegression(max_iter=1000).fit(X_train, y_train)"
   ]
  },
  {
   "cell_type": "code",
   "execution_count": 13,
   "id": "75c2754f-d892-4753-9541-6c30520848ab",
   "metadata": {},
   "outputs": [
    {
     "data": {
      "text/plain": [
       "array([0, 0, 1, 1, 0, 1, 0, 0, 0, 0, 0, 1, 0, 1, 1, 1, 0, 1, 0, 1, 0, 0,\n",
       "       1, 0, 0, 0, 1, 0, 1, 0, 0, 1, 0, 0, 0, 1, 0, 0, 0, 1, 0, 0, 1, 0,\n",
       "       1, 0, 0, 0, 0, 1, 0, 0, 1, 0, 0, 0, 1, 0, 0, 1, 0, 1, 0, 0, 0, 1,\n",
       "       0, 1, 1, 0, 0, 1, 0, 0, 1, 1, 0], dtype=int64)"
      ]
     },
     "execution_count": 13,
     "metadata": {},
     "output_type": "execute_result"
    }
   ],
   "source": [
    "LR.predict(X_test)"
   ]
  },
  {
   "cell_type": "code",
   "execution_count": 15,
   "id": "88e48c7d-23e2-4023-904b-805cab58d062",
   "metadata": {},
   "outputs": [],
   "source": [
    "LR_s = LogisticRegression().fit(X_train_s, y_train)"
   ]
  },
  {
   "cell_type": "code",
   "execution_count": 16,
   "id": "ec22a49c-6bd4-4ba4-8ad2-037246fd7872",
   "metadata": {},
   "outputs": [
    {
     "name": "stdout",
     "output_type": "stream",
     "text": [
      "ClassReport\n",
      "LogisticRegression\n",
      "              precision    recall  f1-score   support\n",
      "\n",
      "           0       0.80      0.83      0.81        47\n",
      "           1       0.71      0.67      0.69        30\n",
      "\n",
      "    accuracy                           0.77        77\n",
      "   macro avg       0.76      0.75      0.75        77\n",
      "weighted avg       0.76      0.77      0.76        77\n",
      "\n",
      "LogisticRegression scaled\n",
      "              precision    recall  f1-score   support\n",
      "\n",
      "           0       0.77      0.85      0.81        47\n",
      "           1       0.72      0.60      0.65        30\n",
      "\n",
      "    accuracy                           0.75        77\n",
      "   macro avg       0.74      0.73      0.73        77\n",
      "weighted avg       0.75      0.75      0.75        77\n",
      "\n"
     ]
    }
   ],
   "source": [
    "print('ClassReport')\n",
    "print(\"LogisticRegression\")\n",
    "print(c_rep(y_test, LR.predict(X_test)))\n",
    "print(\"LogisticRegression scaled\")\n",
    "print(c_rep(y_test, LR_s.predict(X_test_s)))"
   ]
  },
  {
   "cell_type": "code",
   "execution_count": 17,
   "id": "c8f6b7db-7206-4e4e-a9fd-2382c6dea3ab",
   "metadata": {},
   "outputs": [
    {
     "name": "stdout",
     "output_type": "stream",
     "text": [
      "CrossValScore\n",
      "LogisticRegression\n",
      "[0.5625     0.9375     0.66666667 0.73333333 0.46666667]\n",
      "LogisticRegression scaled\n",
      "[0.5625     0.9375     0.66666667 0.73333333 0.53333333]\n"
     ]
    }
   ],
   "source": [
    "print('CrossValScore')\n",
    "print(\"LogisticRegression\")\n",
    "print(cross_val_score(LR, X_test, y_test))\n",
    "print(\"LogisticRegression scaled\")\n",
    "print(cross_val_score(LR_s, X_test_s, y_test))"
   ]
  },
  {
   "cell_type": "markdown",
   "id": "5e989058-e1b3-40fd-a7af-d6846c00a8ea",
   "metadata": {},
   "source": [
    "# SVM"
   ]
  },
  {
   "cell_type": "code",
   "execution_count": 18,
   "id": "3fda3630-e0f7-4d0e-8edc-a3f47484735c",
   "metadata": {},
   "outputs": [],
   "source": [
    "SVM = svm.SVC().fit(X_train, y_train)"
   ]
  },
  {
   "cell_type": "code",
   "execution_count": 19,
   "id": "8f0cff40-ff5d-424a-bfb0-48eb1826f7ff",
   "metadata": {},
   "outputs": [
    {
     "data": {
      "text/plain": [
       "array([0, 0, 0, 0, 0, 0, 0, 0, 0, 0, 0, 1, 0, 1, 1, 0, 0, 1, 0, 1, 0, 0,\n",
       "       1, 0, 0, 0, 1, 1, 0, 0, 0, 1, 0, 0, 0, 0, 0, 0, 0, 1, 0, 0, 1, 0,\n",
       "       1, 0, 0, 0, 0, 1, 0, 0, 1, 0, 0, 0, 1, 0, 0, 1, 0, 1, 0, 0, 0, 0,\n",
       "       0, 1, 1, 0, 0, 1, 0, 0, 1, 1, 1], dtype=int64)"
      ]
     },
     "execution_count": 19,
     "metadata": {},
     "output_type": "execute_result"
    }
   ],
   "source": [
    "np.round(SVM.predict(X_test))"
   ]
  },
  {
   "cell_type": "code",
   "execution_count": 82,
   "id": "e2780828-afe7-4280-9eea-20fb478b4629",
   "metadata": {},
   "outputs": [],
   "source": [
    "SVM_s = svm.SVC().fit(X_train_s, y_train)"
   ]
  },
  {
   "cell_type": "code",
   "execution_count": 83,
   "id": "ce1a4daa-a86f-4855-949f-c8eb764dd4df",
   "metadata": {},
   "outputs": [
    {
     "name": "stdout",
     "output_type": "stream",
     "text": [
      "ClassReport\n",
      "SVM\n",
      "              precision    recall  f1-score   support\n",
      "\n",
      "           0       0.76      0.87      0.81        47\n",
      "           1       0.74      0.57      0.64        30\n",
      "\n",
      "    accuracy                           0.75        77\n",
      "   macro avg       0.75      0.72      0.73        77\n",
      "weighted avg       0.75      0.75      0.75        77\n",
      "\n",
      "SVM scaled\n",
      "              precision    recall  f1-score   support\n",
      "\n",
      "           0       0.73      0.85      0.78        47\n",
      "           1       0.68      0.50      0.58        30\n",
      "\n",
      "    accuracy                           0.71        77\n",
      "   macro avg       0.70      0.68      0.68        77\n",
      "weighted avg       0.71      0.71      0.70        77\n",
      "\n"
     ]
    }
   ],
   "source": [
    "print('ClassReport')\n",
    "print(\"SVM\")\n",
    "print(c_rep(y_test, SVM.predict(X_test)))\n",
    "print(\"SVM scaled\")\n",
    "print(c_rep(y_test, SVM_s.predict(X_test_s)))"
   ]
  },
  {
   "cell_type": "code",
   "execution_count": 84,
   "id": "d9659b61-553e-494c-86f3-8c87843d4eb6",
   "metadata": {},
   "outputs": [
    {
     "name": "stdout",
     "output_type": "stream",
     "text": [
      "CrossValScore\n",
      "SVM\n",
      "[0.6875     0.8125     0.8        0.66666667 0.6       ]\n",
      "SVM scaled\n",
      "[0.5        0.875      0.53333333 0.73333333 0.6       ]\n"
     ]
    }
   ],
   "source": [
    "print('CrossValScore')\n",
    "print(\"SVM\")\n",
    "print(cross_val_score(SVM, X_test, y_test))\n",
    "print(\"SVM scaled\")\n",
    "print(cross_val_score(SVM_s, X_test_s, y_test))"
   ]
  },
  {
   "cell_type": "markdown",
   "id": "0b15be98-aac6-41ed-98ba-8cd3327748cf",
   "metadata": {},
   "source": [
    "# KNeighbors"
   ]
  },
  {
   "cell_type": "code",
   "execution_count": 55,
   "id": "5d93cfab-935c-4448-94b1-d65b41ca9ecb",
   "metadata": {},
   "outputs": [],
   "source": [
    "from sklearn.neighbors import KNeighborsClassifier\n",
    "from sklearn.metrics import precision_score as p_score"
   ]
  },
  {
   "cell_type": "code",
   "execution_count": 74,
   "id": "1cf260d1-e968-434f-9587-9b6ad7ff7948",
   "metadata": {},
   "outputs": [],
   "source": [
    "psc = []\n",
    "psc_s = []\n",
    "for k in range(1, 50+1):\n",
    "    KNN = KNeighborsClassifier(n_neighbors=k).fit(X_train, y_train)\n",
    "    KNN_s = KNeighborsClassifier(n_neighbors=k).fit(X_train_s, y_train)\n",
    "    psc_s.append(p_score(y_test, KNN_s.predict(X_test_s)))\n",
    "    psc.append(p_score(y_test, KNN.predict(X_test)))"
   ]
  },
  {
   "cell_type": "code",
   "execution_count": 76,
   "id": "56dd20b9-db0e-4fbc-b76b-f1f1b93ae8d6",
   "metadata": {},
   "outputs": [
    {
     "data": {
      "text/plain": [
       "[<matplotlib.lines.Line2D at 0x1fa29982540>]"
      ]
     },
     "execution_count": 76,
     "metadata": {},
     "output_type": "execute_result"
    },
    {
     "data": {
      "image/png": "[encoded data removed]",
      "text/plain": [
       "<Figure size 640x480 with 1 Axes>"
      ]
     },
     "metadata": {},
     "output_type": "display_data"
    }
   ],
   "source": [
    "plt.plot(range(1, 50+1), psc, '.')"
   ]
  },
  {
   "cell_type": "code",
   "execution_count": 78,
   "id": "8a5efc6a-d439-4ff5-b457-33bd1b1f8290",
   "metadata": {},
   "outputs": [],
   "source": [
    "k = 22"
   ]
  },
  {
   "cell_type": "code",
   "execution_count": 77,
   "id": "838a9bd1-0999-4693-a08b-f24a6834b91e",
   "metadata": {},
   "outputs": [
    {
     "data": {
      "text/plain": [
       "[<matplotlib.lines.Line2D at 0x1fa299ded80>]"
      ]
     },
     "execution_count": 77,
     "metadata": {},
     "output_type": "execute_result"
    },
    {
     "data": {
      "image/png": "[encoded data removed]",
      "text/plain": [
       "<Figure size 640x480 with 1 Axes>"
      ]
     },
     "metadata": {},
     "output_type": "display_data"
    }
   ],
   "source": [
    "plt.plot(range(1, 50+1), psc_s, '.')"
   ]
  },
  {
   "cell_type": "code",
   "execution_count": 79,
   "id": "8c7ff01f-5cf3-4931-9267-373fab697f53",
   "metadata": {},
   "outputs": [],
   "source": [
    "k_s = 34"
   ]
  },
  {
   "cell_type": "code",
   "execution_count": 80,
   "id": "16f17b38-2cb0-4499-97be-7afb87bc836f",
   "metadata": {},
   "outputs": [],
   "source": [
    "KNN = KNeighborsClassifier(n_neighbors=22).fit(X_train, y_train)\n",
    "KNN_s = KNeighborsClassifier(n_neighbors=34).fit(X_train_s, y_train)"
   ]
  },
  {
   "cell_type": "code",
   "execution_count": 87,
   "id": "b5c5d0a0-fdcb-48f8-94c6-9d4b471ad88f",
   "metadata": {},
   "outputs": [
    {
     "name": "stdout",
     "output_type": "stream",
     "text": [
      "ClassReport\n",
      "KNN\n",
      "              precision    recall  f1-score   support\n",
      "\n",
      "           0       0.75      0.89      0.82        47\n",
      "           1       0.76      0.53      0.63        30\n",
      "\n",
      "    accuracy                           0.75        77\n",
      "   macro avg       0.76      0.71      0.72        77\n",
      "weighted avg       0.75      0.75      0.74        77\n",
      "\n",
      "KNN scaled\n",
      "              precision    recall  f1-score   support\n",
      "\n",
      "           0       0.70      0.91      0.80        47\n",
      "           1       0.75      0.40      0.52        30\n",
      "\n",
      "    accuracy                           0.71        77\n",
      "   macro avg       0.73      0.66      0.66        77\n",
      "weighted avg       0.72      0.71      0.69        77\n",
      "\n"
     ]
    }
   ],
   "source": [
    "print('ClassReport')\n",
    "print(\"KNN\")\n",
    "print(c_rep(y_test, KNN.predict(X_test)))\n",
    "print(\"KNN scaled\")\n",
    "print(c_rep(y_test, KNN_s.predict(X_test_s)))"
   ]
  },
  {
   "cell_type": "code",
   "execution_count": 88,
   "id": "cef137aa-783a-4866-bebf-49ab59759f26",
   "metadata": {},
   "outputs": [
    {
     "name": "stdout",
     "output_type": "stream",
     "text": [
      "CrossValScore\n",
      "KNN\n",
      "[0.625      0.8125     0.8        0.66666667 0.66666667]\n",
      "KNN scaled\n",
      "[0.5        0.625      0.53333333 0.66666667 0.6       ]\n"
     ]
    }
   ],
   "source": [
    "print('CrossValScore')\n",
    "print(\"KNN\")\n",
    "print(cross_val_score(KNN, X_test, y_test))\n",
    "print(\"KNN scaled\")\n",
    "print(cross_val_score(KNN_s, X_test_s, y_test))"
   ]
  },
  {
   "cell_type": "markdown",
   "id": "d52ab6ec-d1d9-403a-87a7-f9b471df9ade",
   "metadata": {},
   "source": [
    "__Выводы:__ Модели по эффективности близки друг к другу. Наилучший результат показал LogisticRegression"
   ]
  }
 ],
 "metadata": {
  "kernelspec": {
   "display_name": "Python 3 (ipykernel)",
   "language": "python",
   "name": "python3"
  },
  "language_info": {
   "codemirror_mode": {
    "name": "ipython",
    "version": 3
   },
   "file_extension": ".py",
   "mimetype": "text/x-python",
   "name": "python",
   "nbconvert_exporter": "python",
   "pygments_lexer": "ipython3",
   "version": "3.12.2"
  }
 },
 "nbformat": 4,
 "nbformat_minor": 5
}
